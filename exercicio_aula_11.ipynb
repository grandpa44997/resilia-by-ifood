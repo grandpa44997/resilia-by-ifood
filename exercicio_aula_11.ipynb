{
  "nbformat": 4,
  "nbformat_minor": 0,
  "metadata": {
    "colab": {
      "provenance": [],
      "authorship_tag": "ABX9TyO5xfPDHRBHG6OTnzHyrNpm",
      "include_colab_link": true
    },
    "kernelspec": {
      "name": "python3",
      "display_name": "Python 3"
    },
    "language_info": {
      "name": "python"
    }
  },
  "cells": [
    {
      "cell_type": "markdown",
      "metadata": {
        "id": "view-in-github",
        "colab_type": "text"
      },
      "source": [
        "<a href=\"https://colab.research.google.com/github/grandpa44997/resilia-by-ifood/blob/main/exercicio_aula_11.ipynb\" target=\"_parent\"><img src=\"https://colab.research.google.com/assets/colab-badge.svg\" alt=\"Open In Colab\"/></a>"
      ]
    },
    {
      "cell_type": "code",
      "execution_count": 6,
      "metadata": {
        "colab": {
          "base_uri": "https://localhost:8080/"
        },
        "id": "K3km2_pm9cw1",
        "outputId": "e208b154-6352-4e75-e79d-74fc8ad3a706"
      },
      "outputs": [
        {
          "output_type": "stream",
          "name": "stdout",
          "text": [
            "e\n",
            "s\n",
            "a\n",
            "r\n",
            "f\n",
            " \n",
            "a\n",
            "m\n",
            "u\n",
            " \n",
            "é\n",
            " \n",
            "a\n",
            "s\n",
            "s\n",
            "e\n"
          ]
        }
      ],
      "source": [
        "sentenca = \"essa é uma frase\"\n",
        "for i in range(len(sentenca)-1, -1, -1):\n",
        "    print(sentenca[i])"
      ]
    }
  ]
}