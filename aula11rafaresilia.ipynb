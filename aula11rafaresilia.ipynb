{
  "nbformat": 4,
  "nbformat_minor": 0,
  "metadata": {
    "colab": {
      "provenance": [],
      "authorship_tag": "ABX9TyPFxE1eQ4v8oZF03t7RSfFb",
      "include_colab_link": true
    },
    "kernelspec": {
      "name": "python3",
      "display_name": "Python 3"
    },
    "language_info": {
      "name": "python"
    }
  },
  "cells": [
    {
      "cell_type": "markdown",
      "metadata": {
        "id": "view-in-github",
        "colab_type": "text"
      },
      "source": [
        "<a href=\"https://colab.research.google.com/github/grandpa44997/resilia-by-ifood/blob/main/aula11rafaresilia.ipynb\" target=\"_parent\"><img src=\"https://colab.research.google.com/assets/colab-badge.svg\" alt=\"Open In Colab\"/></a>"
      ]
    },
    {
      "cell_type": "code",
      "execution_count": 2,
      "metadata": {
        "colab": {
          "base_uri": "https://localhost:8080/"
        },
        "id": "1CDOhDaa37d7",
        "outputId": "7ec88e31-10ce-4627-a90a-319b3eae342b"
      },
      "outputs": [
        {
          "output_type": "stream",
          "name": "stdout",
          "text": [
            "é uma\n"
          ]
        }
      ],
      "source": [
        "sentenca = 'esta é uma string'\n",
        "#print(len(sentenca))\n",
        "\n",
        "#for i in range(len(sentenca)):\n",
        "#  print(sentenca[i])\n",
        "\n",
        "'''\n",
        "() função\n",
        "[] índice\n",
        "{} lista / tupla\n",
        "'''\n",
        "\n",
        "print(sentenca[5:10])"
      ]
    },
    {
      "cell_type": "code",
      "source": [],
      "metadata": {
        "id": "K2VoOkxm7OPD"
      },
      "execution_count": null,
      "outputs": []
    }
  ]
}