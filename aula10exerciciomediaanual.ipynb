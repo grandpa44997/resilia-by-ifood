{
  "nbformat": 4,
  "nbformat_minor": 0,
  "metadata": {
    "colab": {
      "provenance": [],
      "authorship_tag": "ABX9TyOsQ9mYsvsYkcCiQzmfRGDO"
    },
    "kernelspec": {
      "name": "python3",
      "display_name": "Python 3"
    },
    "language_info": {
      "name": "python"
    }
  },
  "cells": [
    {
      "cell_type": "code",
      "execution_count": 1,
      "metadata": {
        "colab": {
          "base_uri": "https://localhost:8080/"
        },
        "id": "eetF6tCGwiyC",
        "outputId": "7d51ee69-9fdc-467d-ed15-7f47d86bfdfd"
      },
      "outputs": [
        {
          "output_type": "stream",
          "name": "stdout",
          "text": [
            "Digite o número de identificação do aluno: 23\n",
            "Digite a primeira nota: 6.5\n",
            "Digite a segunda nota: 8.0\n",
            "Digite a terceira nota: 6.0\n",
            "Digite a média dos exercícios: 4.0\n",
            "O conceito do aluno é C\n",
            "Situação: Aprovado\n"
          ]
        }
      ],
      "source": [
        "# entrada numero do aluno\n",
        "identificacao = int(input(\"Digite o número de identificação do aluno: \"))\n",
        "nota1 = float(input(\"Digite a primeira nota: \"))\n",
        "nota2 = float(input(\"Digite a segunda nota: \"))\n",
        "nota3 = float(input(\"Digite a terceira nota: \"))\n",
        "media_exercicios = float(input(\"Digite a média dos exercícios: \"))\n",
        "\n",
        "# formula da media anual\n",
        "ma = (nota1 + nota2*2 + nota3*3 + media_exercicios) / 7\n",
        "\n",
        "#demonstrar a média com str e %.2f\n",
        "\n",
        "print('Aluno número:')\n",
        "\n",
        "# comparacao para verificacao da situacao\n",
        "if ma >= 9:\n",
        "    conceito = \"A\"\n",
        "    situacao = \"Aprovado\"\n",
        "elif ma >= 7.5:\n",
        "    conceito = \"B\"\n",
        "    situacao = \"Aprovado\"\n",
        "elif ma >= 6:\n",
        "    conceito = \"C\"\n",
        "    situacao = \"Aprovado\"\n",
        "elif ma >= 4:\n",
        "    conceito = \"D\"\n",
        "    situacao = \"Reprovado\"\n",
        "else:\n",
        "    conceito = \"E\"\n",
        "    situacao = \"Reprovado\"\n",
        "\n",
        "# mostra o resultado\n",
        "print(\"O conceito do aluno é\", conceito)\n",
        "print(\"Situação:\", situacao)"
      ]
    }
  ]
}