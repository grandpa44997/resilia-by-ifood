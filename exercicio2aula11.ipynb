{
  "nbformat": 4,
  "nbformat_minor": 0,
  "metadata": {
    "colab": {
      "provenance": [],
      "authorship_tag": "ABX9TyPTaxA84gg7YMErWLXf17wB"
    },
    "kernelspec": {
      "name": "python3",
      "display_name": "Python 3"
    },
    "language_info": {
      "name": "python"
    }
  },
  "cells": [
    {
      "cell_type": "code",
      "execution_count": 3,
      "metadata": {
        "colab": {
          "base_uri": "https://localhost:8080/"
        },
        "id": "1sDPf4OwDjLC",
        "outputId": "15040cd6-4ebb-4084-80f4-ad6162c4e09b"
      },
      "outputs": [
        {
          "output_type": "stream",
          "name": "stdout",
          "text": [
            "Esta*é*uma*string,*uma*palavra,*não*é*um*palavrão\n",
            "esta é uma string, uma palavra, não é um palavrão\n",
            "ESTA É UMA STRING, UMA PALAVRA, NÃO É UM PALAVRÃO\n",
            "23\n",
            "Esta é uma string, uma palavra, não é um ********\n"
          ]
        }
      ],
      "source": [
        "sentenca = 'Esta é uma string, uma palavra, não é um palavrão'\n",
        "\n",
        "#replace\n",
        "print(sentenca.replace(' ', '*'))\n",
        "\n",
        "#lower\n",
        "print(sentenca.lower())\n",
        "\n",
        "#upper\n",
        "print(sentenca.upper())\n",
        "\n",
        "#find\n",
        "indice = sentenca.find('palavra')\n",
        "print(indice)\n",
        "\n",
        "print(sentenca.replace('palavrão', '********'))"
      ]
    }
  ]
}